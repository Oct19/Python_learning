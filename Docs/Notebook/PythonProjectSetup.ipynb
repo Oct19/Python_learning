{
 "cells": [
  {
   "cell_type": "markdown",
   "metadata": {},
   "source": [
    "# Python package install\n"
   ]
  },
  {
   "cell_type": "markdown",
   "metadata": {},
   "source": [
    "## Virtual environment (VEnv)"
   ]
  },
  {
   "cell_type": "markdown",
   "metadata": {},
   "source": [
    "### Create VEnv\n",
    "\n",
    "In TERMINAL:\n",
    "\n",
    "`python -m venv <venv_name>`\n",
    "\n",
    "`<venv_name>/Scripts/activate.bat`\n",
    "\n",
    "Select Python interpreter from `<venv_name>/Scripts/python.exe`\n",
    "\n"
   ]
  },
  {
   "cell_type": "markdown",
   "metadata": {},
   "source": [
    "### Import/Export VEnv\n",
    "\n",
    "Open project with VEnv to copy from, generate requirements file\n",
    "\n",
    "`pip freeze > requirements.txt`\n",
    "\n",
    "Copy `requirements.txt` to destination folder, and then\n",
    "\n",
    "`pip install -r requirements.txt`"
   ]
  },
  {
   "cell_type": "markdown",
   "metadata": {},
   "source": [
    "### Common problems:\n",
    "\n",
    "- Could not fetch URL, connect=None\n",
    "    - Windows setting > Proxy > add exceptions: pypi.org\n",
    "- No module named pip\n",
    "    - python -m ensurepip\n",
    "- WARNING: Ignoring invalid distribution -ip\n",
    "    - In Env folder, delete files with names start with \"~\"\n"
   ]
  },
  {
   "cell_type": "markdown",
   "metadata": {},
   "source": [
    "### Powershell\n",
    "\n",
    "- cannot be loaded because the execution of scripts is disabled on this system.\n",
    "    - Run as Admin\n",
    "    - Set-ExecutionPolicy RemoteSigned"
   ]
  },
  {
   "cell_type": "markdown",
   "metadata": {},
   "source": [
    "# Jupyter\n",
    "\n",
    "Install Jupyter from VS Code Extensions"
   ]
  },
  {
   "cell_type": "markdown",
   "metadata": {},
   "source": [
    "### Problems:\n",
    "\n",
    "- When running Python within cells, Cannot connect to kernel\n",
    "    - Close and reopen VS code\n",
    "    - python -m pip install 'traitlets==4.3.3' --force-reinstall"
   ]
  }
 ],
 "metadata": {
  "interpreter": {
   "hash": "329d2c315e1551a611d6653cd6e47469fb06a57c0b4a30dbf7f3fb8e9095ed8b"
  },
  "kernelspec": {
   "display_name": "Python 3.10.0 64-bit ('PythonLearningEnv': venv)",
   "language": "python",
   "name": "python3"
  },
  "language_info": {
   "name": "python",
   "version": "3.10.0"
  },
  "orig_nbformat": 4
 },
 "nbformat": 4,
 "nbformat_minor": 2
}
